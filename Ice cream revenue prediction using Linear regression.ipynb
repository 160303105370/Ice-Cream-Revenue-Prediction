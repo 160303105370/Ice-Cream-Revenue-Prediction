{
 "cells": [
  {
   "cell_type": "markdown",
   "id": "affc6c2a",
   "metadata": {},
   "source": [
    "# 1) Import Libraries\n"
   ]
  },
  {
   "cell_type": "code",
   "execution_count": 2,
   "id": "86613fc9",
   "metadata": {},
   "outputs": [],
   "source": [
    "import pandas as pd\n",
    "import seaborn as sns\n",
    "import numpy as np\n",
    "import matplotlib.pyplot as plt"
   ]
  },
  {
   "cell_type": "markdown",
   "id": "75ce9a53",
   "metadata": {},
   "source": [
    "# 2) Import Dataset"
   ]
  },
  {
   "cell_type": "code",
   "execution_count": 3,
   "id": "b58056c7",
   "metadata": {},
   "outputs": [],
   "source": [
    "IceCream_df=pd.read_csv('IceCreamData.csv')"
   ]
  },
  {
   "cell_type": "code",
   "execution_count": 4,
   "id": "bdca9db4",
   "metadata": {
    "scrolled": false
   },
   "outputs": [
    {
     "data": {
      "text/html": [
       "<div>\n",
       "<style scoped>\n",
       "    .dataframe tbody tr th:only-of-type {\n",
       "        vertical-align: middle;\n",
       "    }\n",
       "\n",
       "    .dataframe tbody tr th {\n",
       "        vertical-align: top;\n",
       "    }\n",
       "\n",
       "    .dataframe thead th {\n",
       "        text-align: right;\n",
       "    }\n",
       "</style>\n",
       "<table border=\"1\" class=\"dataframe\">\n",
       "  <thead>\n",
       "    <tr style=\"text-align: right;\">\n",
       "      <th></th>\n",
       "      <th>Temperature</th>\n",
       "      <th>Revenue</th>\n",
       "    </tr>\n",
       "  </thead>\n",
       "  <tbody>\n",
       "    <tr>\n",
       "      <th>0</th>\n",
       "      <td>24.566884</td>\n",
       "      <td>534.799028</td>\n",
       "    </tr>\n",
       "    <tr>\n",
       "      <th>1</th>\n",
       "      <td>26.005191</td>\n",
       "      <td>625.190122</td>\n",
       "    </tr>\n",
       "    <tr>\n",
       "      <th>2</th>\n",
       "      <td>27.790554</td>\n",
       "      <td>660.632289</td>\n",
       "    </tr>\n",
       "    <tr>\n",
       "      <th>3</th>\n",
       "      <td>20.595335</td>\n",
       "      <td>487.706960</td>\n",
       "    </tr>\n",
       "    <tr>\n",
       "      <th>4</th>\n",
       "      <td>11.503498</td>\n",
       "      <td>316.240194</td>\n",
       "    </tr>\n",
       "    <tr>\n",
       "      <th>5</th>\n",
       "      <td>14.352514</td>\n",
       "      <td>367.940744</td>\n",
       "    </tr>\n",
       "    <tr>\n",
       "      <th>6</th>\n",
       "      <td>13.707780</td>\n",
       "      <td>308.894518</td>\n",
       "    </tr>\n",
       "    <tr>\n",
       "      <th>7</th>\n",
       "      <td>30.833985</td>\n",
       "      <td>696.716640</td>\n",
       "    </tr>\n",
       "    <tr>\n",
       "      <th>8</th>\n",
       "      <td>0.976870</td>\n",
       "      <td>55.390338</td>\n",
       "    </tr>\n",
       "    <tr>\n",
       "      <th>9</th>\n",
       "      <td>31.669465</td>\n",
       "      <td>737.800824</td>\n",
       "    </tr>\n",
       "  </tbody>\n",
       "</table>\n",
       "</div>"
      ],
      "text/plain": [
       "   Temperature     Revenue\n",
       "0    24.566884  534.799028\n",
       "1    26.005191  625.190122\n",
       "2    27.790554  660.632289\n",
       "3    20.595335  487.706960\n",
       "4    11.503498  316.240194\n",
       "5    14.352514  367.940744\n",
       "6    13.707780  308.894518\n",
       "7    30.833985  696.716640\n",
       "8     0.976870   55.390338\n",
       "9    31.669465  737.800824"
      ]
     },
     "execution_count": 4,
     "metadata": {},
     "output_type": "execute_result"
    }
   ],
   "source": [
    "IceCream_df.head(10)"
   ]
  },
  {
   "cell_type": "code",
   "execution_count": 5,
   "id": "b04315fc",
   "metadata": {
    "scrolled": true
   },
   "outputs": [
    {
     "data": {
      "text/html": [
       "<div>\n",
       "<style scoped>\n",
       "    .dataframe tbody tr th:only-of-type {\n",
       "        vertical-align: middle;\n",
       "    }\n",
       "\n",
       "    .dataframe tbody tr th {\n",
       "        vertical-align: top;\n",
       "    }\n",
       "\n",
       "    .dataframe thead th {\n",
       "        text-align: right;\n",
       "    }\n",
       "</style>\n",
       "<table border=\"1\" class=\"dataframe\">\n",
       "  <thead>\n",
       "    <tr style=\"text-align: right;\">\n",
       "      <th></th>\n",
       "      <th>Temperature</th>\n",
       "      <th>Revenue</th>\n",
       "    </tr>\n",
       "  </thead>\n",
       "  <tbody>\n",
       "    <tr>\n",
       "      <th>490</th>\n",
       "      <td>23.824922</td>\n",
       "      <td>584.399945</td>\n",
       "    </tr>\n",
       "    <tr>\n",
       "      <th>491</th>\n",
       "      <td>34.472169</td>\n",
       "      <td>809.352519</td>\n",
       "    </tr>\n",
       "    <tr>\n",
       "      <th>492</th>\n",
       "      <td>23.056214</td>\n",
       "      <td>552.819351</td>\n",
       "    </tr>\n",
       "    <tr>\n",
       "      <th>493</th>\n",
       "      <td>14.931506</td>\n",
       "      <td>377.430928</td>\n",
       "    </tr>\n",
       "    <tr>\n",
       "      <th>494</th>\n",
       "      <td>25.112066</td>\n",
       "      <td>571.434257</td>\n",
       "    </tr>\n",
       "    <tr>\n",
       "      <th>495</th>\n",
       "      <td>22.274899</td>\n",
       "      <td>524.746364</td>\n",
       "    </tr>\n",
       "    <tr>\n",
       "      <th>496</th>\n",
       "      <td>32.893092</td>\n",
       "      <td>755.818399</td>\n",
       "    </tr>\n",
       "    <tr>\n",
       "      <th>497</th>\n",
       "      <td>12.588157</td>\n",
       "      <td>306.090719</td>\n",
       "    </tr>\n",
       "    <tr>\n",
       "      <th>498</th>\n",
       "      <td>22.362402</td>\n",
       "      <td>566.217304</td>\n",
       "    </tr>\n",
       "    <tr>\n",
       "      <th>499</th>\n",
       "      <td>28.957736</td>\n",
       "      <td>655.660388</td>\n",
       "    </tr>\n",
       "  </tbody>\n",
       "</table>\n",
       "</div>"
      ],
      "text/plain": [
       "     Temperature     Revenue\n",
       "490    23.824922  584.399945\n",
       "491    34.472169  809.352519\n",
       "492    23.056214  552.819351\n",
       "493    14.931506  377.430928\n",
       "494    25.112066  571.434257\n",
       "495    22.274899  524.746364\n",
       "496    32.893092  755.818399\n",
       "497    12.588157  306.090719\n",
       "498    22.362402  566.217304\n",
       "499    28.957736  655.660388"
      ]
     },
     "execution_count": 5,
     "metadata": {},
     "output_type": "execute_result"
    }
   ],
   "source": [
    "IceCream_df.tail(10)"
   ]
  },
  {
   "cell_type": "code",
   "execution_count": 6,
   "id": "859c459d",
   "metadata": {},
   "outputs": [
    {
     "data": {
      "text/html": [
       "<div>\n",
       "<style scoped>\n",
       "    .dataframe tbody tr th:only-of-type {\n",
       "        vertical-align: middle;\n",
       "    }\n",
       "\n",
       "    .dataframe tbody tr th {\n",
       "        vertical-align: top;\n",
       "    }\n",
       "\n",
       "    .dataframe thead th {\n",
       "        text-align: right;\n",
       "    }\n",
       "</style>\n",
       "<table border=\"1\" class=\"dataframe\">\n",
       "  <thead>\n",
       "    <tr style=\"text-align: right;\">\n",
       "      <th></th>\n",
       "      <th>Temperature</th>\n",
       "      <th>Revenue</th>\n",
       "    </tr>\n",
       "  </thead>\n",
       "  <tbody>\n",
       "    <tr>\n",
       "      <th>count</th>\n",
       "      <td>500.000000</td>\n",
       "      <td>500.000000</td>\n",
       "    </tr>\n",
       "    <tr>\n",
       "      <th>mean</th>\n",
       "      <td>22.232225</td>\n",
       "      <td>521.570777</td>\n",
       "    </tr>\n",
       "    <tr>\n",
       "      <th>std</th>\n",
       "      <td>8.096388</td>\n",
       "      <td>175.404751</td>\n",
       "    </tr>\n",
       "    <tr>\n",
       "      <th>min</th>\n",
       "      <td>0.000000</td>\n",
       "      <td>10.000000</td>\n",
       "    </tr>\n",
       "    <tr>\n",
       "      <th>25%</th>\n",
       "      <td>17.122258</td>\n",
       "      <td>405.558681</td>\n",
       "    </tr>\n",
       "    <tr>\n",
       "      <th>50%</th>\n",
       "      <td>22.392791</td>\n",
       "      <td>529.368565</td>\n",
       "    </tr>\n",
       "    <tr>\n",
       "      <th>75%</th>\n",
       "      <td>27.740674</td>\n",
       "      <td>642.257922</td>\n",
       "    </tr>\n",
       "    <tr>\n",
       "      <th>max</th>\n",
       "      <td>45.000000</td>\n",
       "      <td>1000.000000</td>\n",
       "    </tr>\n",
       "  </tbody>\n",
       "</table>\n",
       "</div>"
      ],
      "text/plain": [
       "       Temperature      Revenue\n",
       "count   500.000000   500.000000\n",
       "mean     22.232225   521.570777\n",
       "std       8.096388   175.404751\n",
       "min       0.000000    10.000000\n",
       "25%      17.122258   405.558681\n",
       "50%      22.392791   529.368565\n",
       "75%      27.740674   642.257922\n",
       "max      45.000000  1000.000000"
      ]
     },
     "execution_count": 6,
     "metadata": {},
     "output_type": "execute_result"
    }
   ],
   "source": [
    "IceCream_df.describe()"
   ]
  },
  {
   "cell_type": "code",
   "execution_count": 7,
   "id": "c97e70af",
   "metadata": {},
   "outputs": [
    {
     "name": "stdout",
     "output_type": "stream",
     "text": [
      "<class 'pandas.core.frame.DataFrame'>\n",
      "RangeIndex: 500 entries, 0 to 499\n",
      "Data columns (total 2 columns):\n",
      " #   Column       Non-Null Count  Dtype  \n",
      "---  ------       --------------  -----  \n",
      " 0   Temperature  500 non-null    float64\n",
      " 1   Revenue      500 non-null    float64\n",
      "dtypes: float64(2)\n",
      "memory usage: 7.9 KB\n"
     ]
    }
   ],
   "source": [
    "IceCream_df.info()"
   ]
  },
  {
   "cell_type": "code",
   "execution_count": 8,
   "id": "9aba871e",
   "metadata": {},
   "outputs": [
    {
     "data": {
      "text/html": [
       "<div>\n",
       "<style scoped>\n",
       "    .dataframe tbody tr th:only-of-type {\n",
       "        vertical-align: middle;\n",
       "    }\n",
       "\n",
       "    .dataframe tbody tr th {\n",
       "        vertical-align: top;\n",
       "    }\n",
       "\n",
       "    .dataframe thead th {\n",
       "        text-align: right;\n",
       "    }\n",
       "</style>\n",
       "<table border=\"1\" class=\"dataframe\">\n",
       "  <thead>\n",
       "    <tr style=\"text-align: right;\">\n",
       "      <th></th>\n",
       "      <th>Temperature</th>\n",
       "      <th>Revenue</th>\n",
       "    </tr>\n",
       "  </thead>\n",
       "  <tbody>\n",
       "    <tr>\n",
       "      <th>444</th>\n",
       "      <td>45.0</td>\n",
       "      <td>1000.0</td>\n",
       "    </tr>\n",
       "  </tbody>\n",
       "</table>\n",
       "</div>"
      ],
      "text/plain": [
       "     Temperature  Revenue\n",
       "444         45.0   1000.0"
      ]
     },
     "execution_count": 8,
     "metadata": {},
     "output_type": "execute_result"
    }
   ],
   "source": [
    "max=IceCream_df[IceCream_df['Revenue']==1000]\n",
    "max"
   ]
  },
  {
   "cell_type": "code",
   "execution_count": 9,
   "id": "63199b7c",
   "metadata": {},
   "outputs": [
    {
     "data": {
      "text/html": [
       "<div>\n",
       "<style scoped>\n",
       "    .dataframe tbody tr th:only-of-type {\n",
       "        vertical-align: middle;\n",
       "    }\n",
       "\n",
       "    .dataframe tbody tr th {\n",
       "        vertical-align: top;\n",
       "    }\n",
       "\n",
       "    .dataframe thead th {\n",
       "        text-align: right;\n",
       "    }\n",
       "</style>\n",
       "<table border=\"1\" class=\"dataframe\">\n",
       "  <thead>\n",
       "    <tr style=\"text-align: right;\">\n",
       "      <th></th>\n",
       "      <th>Temperature</th>\n",
       "      <th>Revenue</th>\n",
       "    </tr>\n",
       "  </thead>\n",
       "  <tbody>\n",
       "    <tr>\n",
       "      <th>402</th>\n",
       "      <td>0.0</td>\n",
       "      <td>10.0</td>\n",
       "    </tr>\n",
       "  </tbody>\n",
       "</table>\n",
       "</div>"
      ],
      "text/plain": [
       "     Temperature  Revenue\n",
       "402          0.0     10.0"
      ]
     },
     "execution_count": 9,
     "metadata": {},
     "output_type": "execute_result"
    }
   ],
   "source": [
    "min=IceCream_df[IceCream_df['Revenue']==10]\n",
    "min"
   ]
  },
  {
   "cell_type": "markdown",
   "id": "741d59ca",
   "metadata": {},
   "source": [
    "# 3)Visualize dataset"
   ]
  },
  {
   "cell_type": "code",
   "execution_count": 10,
   "id": "2db48c12",
   "metadata": {},
   "outputs": [
    {
     "data": {
      "text/plain": [
       "<seaborn.axisgrid.JointGrid at 0x1324bfd2a90>"
      ]
     },
     "execution_count": 10,
     "metadata": {},
     "output_type": "execute_result"
    },
    {
     "data": {
      "image/png": "[encoded data removed]",
      "text/plain": [
       "<Figure size 432x432 with 3 Axes>"
      ]
     },
     "metadata": {
      "needs_background": "light"
     },
     "output_type": "display_data"
    }
   ],
   "source": [
    "sns.jointplot(x='Temperature',y='Revenue', data=IceCream_df,color='green')"
   ]
  },
  {
   "cell_type": "code",
   "execution_count": 11,
   "id": "fd70edc6",
   "metadata": {},
   "outputs": [
    {
     "data": {
      "text/plain": [
       "<seaborn.axisgrid.JointGrid at 0x1324d1506d0>"
      ]
     },
     "execution_count": 11,
     "metadata": {},
     "output_type": "execute_result"
    },
    {
     "data": {
      "image/png": "[encoded data removed]",
      "text/plain": [
       "<Figure size 432x432 with 3 Axes>"
      ]
     },
     "metadata": {
      "needs_background": "light"
     },
     "output_type": "display_data"
    }
   ],
   "source": [
    "sns.jointplot(x='Revenue',y='Temperature', data=IceCream_df,color='blue')"
   ]
  },
  {
   "cell_type": "code",
   "execution_count": 12,
   "id": "0aab6495",
   "metadata": {
    "scrolled": true
   },
   "outputs": [
    {
     "data": {
      "text/plain": [
       "<seaborn.axisgrid.PairGrid at 0x1324d296190>"
      ]
     },
     "execution_count": 12,
     "metadata": {},
     "output_type": "execute_result"
    },
    {
     "data": {
      "image/png": "[encoded data removed]",
      "text/plain": [
       "<Figure size 360x360 with 6 Axes>"
      ]
     },
     "metadata": {
      "needs_background": "light"
     },
     "output_type": "display_data"
    }
   ],
   "source": [
    "sns.pairplot(IceCream_df)"
   ]
  },
  {
   "cell_type": "code",
   "execution_count": 13,
   "id": "ef401c59",
   "metadata": {},
   "outputs": [
    {
     "data": {
      "text/plain": [
       "<seaborn.axisgrid.FacetGrid at 0x1324d3dd3d0>"
      ]
     },
     "execution_count": 13,
     "metadata": {},
     "output_type": "execute_result"
    },
    {
     "data": {
      "image/png": "[encoded data removed]",
      "text/plain": [
       "<Figure size 360x360 with 1 Axes>"
      ]
     },
     "metadata": {
      "needs_background": "light"
     },
     "output_type": "display_data"
    }
   ],
   "source": [
    "sns.lmplot(x='Temperature',y='Revenue', data=IceCream_df)"
   ]
  },
  {
   "cell_type": "code",
   "execution_count": 14,
   "id": "2569521d",
   "metadata": {},
   "outputs": [
    {
     "data": {
      "text/plain": [
       "<seaborn.axisgrid.FacetGrid at 0x1324d52fc10>"
      ]
     },
     "execution_count": 14,
     "metadata": {},
     "output_type": "execute_result"
    },
    {
     "data": {
      "image/png": "[encoded data removed]",
      "text/plain": [
       "<Figure size 360x360 with 1 Axes>"
      ]
     },
     "metadata": {
      "needs_background": "light"
     },
     "output_type": "display_data"
    }
   ],
   "source": [
    "sns.lmplot(x='Revenue',y='Temperature', data=IceCream_df)"
   ]
  },
  {
   "cell_type": "markdown",
   "id": "8a60e3c9",
   "metadata": {},
   "source": [
    "# 4) CREATE TESTING AND TRAINING DATASET"
   ]
  },
  {
   "cell_type": "code",
   "execution_count": 15,
   "id": "82c473cb",
   "metadata": {},
   "outputs": [
    {
     "data": {
      "text/plain": [
       "0      24.566884\n",
       "1      26.005191\n",
       "2      27.790554\n",
       "3      20.595335\n",
       "4      11.503498\n",
       "         ...    \n",
       "495    22.274899\n",
       "496    32.893092\n",
       "497    12.588157\n",
       "498    22.362402\n",
       "499    28.957736\n",
       "Name: Temperature, Length: 500, dtype: float64"
      ]
     },
     "execution_count": 15,
     "metadata": {},
     "output_type": "execute_result"
    }
   ],
   "source": [
    "X=IceCream_df['Temperature']\n",
    "X"
   ]
  },
  {
   "cell_type": "code",
   "execution_count": 16,
   "id": "daa42dcc",
   "metadata": {
    "scrolled": true
   },
   "outputs": [
    {
     "data": {
      "text/plain": [
       "0      534.799028\n",
       "1      625.190122\n",
       "2      660.632289\n",
       "3      487.706960\n",
       "4      316.240194\n",
       "          ...    \n",
       "495    524.746364\n",
       "496    755.818399\n",
       "497    306.090719\n",
       "498    566.217304\n",
       "499    655.660388\n",
       "Name: Revenue, Length: 500, dtype: float64"
      ]
     },
     "execution_count": 16,
     "metadata": {},
     "output_type": "execute_result"
    }
   ],
   "source": [
    "y=IceCream_df['Revenue']\n",
    "y"
   ]
  },
  {
   "cell_type": "code",
   "execution_count": 57,
   "id": "f242adce",
   "metadata": {},
   "outputs": [],
   "source": [
    "X = np.asarray(X)\n",
    "X = np.reshape(X, (-1, 1))\n",
    "y = np.asarray(y)\n",
    "y = np.reshape(y, (-1, 1))"
   ]
  },
  {
   "cell_type": "code",
   "execution_count": 18,
   "id": "e48c146b",
   "metadata": {},
   "outputs": [],
   "source": [
    "from sklearn.model_selection import train_test_split\n",
    "X_train,X_test,y_train,y_test=train_test_split(X,y,test_size=.20, random_state=42)"
   ]
  },
  {
   "cell_type": "code",
   "execution_count": 19,
   "id": "48c857d1",
   "metadata": {},
   "outputs": [
    {
     "data": {
      "text/plain": [
       "(400, 1)"
      ]
     },
     "execution_count": 19,
     "metadata": {},
     "output_type": "execute_result"
    }
   ],
   "source": [
    "X_train.shape"
   ]
  },
  {
   "cell_type": "code",
   "execution_count": 20,
   "id": "8c2b9e06",
   "metadata": {},
   "outputs": [
    {
     "data": {
      "text/plain": [
       "(100, 1)"
      ]
     },
     "execution_count": 20,
     "metadata": {},
     "output_type": "execute_result"
    }
   ],
   "source": [
    "X_test.shape"
   ]
  },
  {
   "cell_type": "code",
   "execution_count": 21,
   "id": "5758b251",
   "metadata": {},
   "outputs": [
    {
     "data": {
      "text/plain": [
       "(100, 1)"
      ]
     },
     "execution_count": 21,
     "metadata": {},
     "output_type": "execute_result"
    }
   ],
   "source": [
    "y_test.shape"
   ]
  },
  {
   "cell_type": "code",
   "execution_count": 22,
   "id": "04a9d802",
   "metadata": {},
   "outputs": [
    {
     "data": {
      "text/plain": [
       "(400, 1)"
      ]
     },
     "execution_count": 22,
     "metadata": {},
     "output_type": "execute_result"
    }
   ],
   "source": [
    "y_train.shape"
   ]
  },
  {
   "cell_type": "markdown",
   "id": "d02d1337",
   "metadata": {},
   "source": [
    "# 5) Train Model"
   ]
  },
  {
   "cell_type": "code",
   "execution_count": 50,
   "id": "c9311254",
   "metadata": {},
   "outputs": [
    {
     "data": {
      "text/plain": [
       "LinearRegression()"
      ]
     },
     "execution_count": 50,
     "metadata": {},
     "output_type": "execute_result"
    }
   ],
   "source": [
    "from sklearn.linear_model import LinearRegression\n",
    "regressor=LinearRegression(fit_intercept=True)\n",
    "regressor.fit(X_train,y_train)\n"
   ]
  },
  {
   "cell_type": "code",
   "execution_count": 51,
   "id": "da711df8",
   "metadata": {},
   "outputs": [
    {
     "name": "stdout",
     "output_type": "stream",
     "text": [
      "Linear Model Coefficient(m) [[21.38197386]]\n",
      "Linear Model Coefficient(b) [46.80464128]\n"
     ]
    }
   ],
   "source": [
    "print('Linear Model Coefficient(m)', regressor.coef_)\n",
    "print('Linear Model Coefficient(b)', regressor.intercept_)\n"
   ]
  },
  {
   "cell_type": "markdown",
   "id": "415ff701",
   "metadata": {},
   "source": [
    "# 6) Test Model"
   ]
  },
  {
   "cell_type": "code",
   "execution_count": 52,
   "id": "19418a9f",
   "metadata": {},
   "outputs": [],
   "source": [
    "y_predict=regressor.predict(X_test)"
   ]
  },
  {
   "cell_type": "code",
   "execution_count": 53,
   "id": "9962107a",
   "metadata": {},
   "outputs": [
    {
     "data": {
      "text/plain": [
       "array([[681.93870622],\n",
       "       [632.14474995],\n",
       "       [559.64360486],\n",
       "       [498.90609993],\n",
       "       [615.45939165],\n",
       "       [304.72417213],\n",
       "       [285.79420948],\n",
       "       [315.60842003],\n",
       "       [506.26427154],\n",
       "       [685.69744019],\n",
       "       [723.96030494],\n",
       "       [400.84625166],\n",
       "       [431.61634142],\n",
       "       [671.36600031],\n",
       "       [ 52.51422053],\n",
       "       [198.77682819],\n",
       "       [523.08595488],\n",
       "       [563.90495549],\n",
       "       [583.83579144],\n",
       "       [682.24517768],\n",
       "       [556.2285085 ],\n",
       "       [783.88766163],\n",
       "       [655.44109362],\n",
       "       [570.0735459 ],\n",
       "       [912.21841974],\n",
       "       [664.74778505],\n",
       "       [315.96428407],\n",
       "       [631.00983241],\n",
       "       [731.1169322 ],\n",
       "       [698.02984963],\n",
       "       [435.08453949],\n",
       "       [471.22058847],\n",
       "       [710.29440571],\n",
       "       [799.81874771],\n",
       "       [641.02153776],\n",
       "       [493.66044553],\n",
       "       [744.9247237 ],\n",
       "       [318.10831232],\n",
       "       [262.69083171],\n",
       "       [132.04437543],\n",
       "       [582.55738268],\n",
       "       [230.41054193],\n",
       "       [547.29799783],\n",
       "       [393.00654153],\n",
       "       [436.66704225],\n",
       "       [593.02780835],\n",
       "       [572.09312165],\n",
       "       [125.16251036],\n",
       "       [474.79444877],\n",
       "       [530.45025905],\n",
       "       [623.19251713],\n",
       "       [503.4813544 ],\n",
       "       [484.60103791],\n",
       "       [498.58705266],\n",
       "       [551.22738648],\n",
       "       [630.80646076],\n",
       "       [573.12703075],\n",
       "       [679.486141  ],\n",
       "       [171.29759926],\n",
       "       [660.49458416],\n",
       "       [583.75017395],\n",
       "       [704.57274239],\n",
       "       [535.82240023],\n",
       "       [630.12763484],\n",
       "       [676.79854535],\n",
       "       [411.36168509],\n",
       "       [508.88286115],\n",
       "       [494.71237942],\n",
       "       [731.12113825],\n",
       "       [312.64970607],\n",
       "       [318.45658383],\n",
       "       [454.48599433],\n",
       "       [795.88908859],\n",
       "       [424.3427197 ],\n",
       "       [520.47071347],\n",
       "       [688.86698747],\n",
       "       [804.96958246],\n",
       "       [448.21981638],\n",
       "       [493.70018478],\n",
       "       [493.61560689],\n",
       "       [546.05307987],\n",
       "       [520.86863586],\n",
       "       [663.24179618],\n",
       "       [547.66983485],\n",
       "       [589.3531778 ],\n",
       "       [697.41089087],\n",
       "       [239.06622088],\n",
       "       [626.63543807],\n",
       "       [585.44702174],\n",
       "       [768.32242947],\n",
       "       [428.92615255],\n",
       "       [522.0216248 ],\n",
       "       [610.64187899],\n",
       "       [353.88023698],\n",
       "       [562.40093312],\n",
       "       [580.5082378 ],\n",
       "       [640.80655591],\n",
       "       [662.39383884],\n",
       "       [413.13762416],\n",
       "       [442.01067869]])"
      ]
     },
     "execution_count": 53,
     "metadata": {},
     "output_type": "execute_result"
    }
   ],
   "source": [
    "y_predict"
   ]
  },
  {
   "cell_type": "code",
   "execution_count": 54,
   "id": "4483e95f",
   "metadata": {},
   "outputs": [
    {
     "data": {
      "text/plain": [
       "Text(0.5, 1.0, 'Revenue Generated Vs Temperature')"
      ]
     },
     "execution_count": 54,
     "metadata": {},
     "output_type": "execute_result"
    },
    {
     "data": {
      "image/png": "[encoded data removed]",
      "text/plain": [
       "<Figure size 432x288 with 1 Axes>"
      ]
     },
     "metadata": {
      "needs_background": "light"
     },
     "output_type": "display_data"
    }
   ],
   "source": [
    "plt.scatter(X_train,y_train,color='gray')\n",
    "plt.plot(X_train,regressor.predict(X_train),color='red')\n",
    "plt.ylabel('Revenue [Dollars]')\n",
    "plt.xlabel('Temperature [DecC]')\n",
    "plt.title('Revenue Generated Vs Temperature')"
   ]
  },
  {
   "cell_type": "code",
   "execution_count": 55,
   "id": "1e7a6430",
   "metadata": {},
   "outputs": [
    {
     "data": {
      "text/plain": [
       "Text(0.5, 1.0, 'Revenue Generated Vs Temperature')"
      ]
     },
     "execution_count": 55,
     "metadata": {},
     "output_type": "execute_result"
    },
    {
     "data": {
      "image/png": "[encoded data removed]",
      "text/plain": [
       "<Figure size 432x288 with 1 Axes>"
      ]
     },
     "metadata": {
      "needs_background": "light"
     },
     "output_type": "display_data"
    }
   ],
   "source": [
    "plt.scatter(X_test,y_test,color='green')\n",
    "plt.plot(X_test,regressor.predict(X_test),color='blue')\n",
    "plt.ylabel('Revenue [Dollars]')\n",
    "plt.xlabel('Temperature [DecC]')\n",
    "plt.title('Revenue Generated Vs Temperature')"
   ]
  },
  {
   "cell_type": "code",
   "execution_count": 62,
   "id": "e90ca813",
   "metadata": {},
   "outputs": [
    {
     "data": {
      "text/plain": [
       "array([[902.08359549]])"
      ]
     },
     "execution_count": 62,
     "metadata": {},
     "output_type": "execute_result"
    }
   ],
   "source": [
    "#Predicting revenue when Temperature is 40 degree C\n",
    "T=40\n",
    "T = np.asarray(T)\n",
    "T = np.reshape(T, (-1, 1))\n",
    "revenue=regressor.predict(T)\n",
    "revenue"
   ]
  },
  {
   "cell_type": "code",
   "execution_count": 63,
   "id": "70a5363e",
   "metadata": {},
   "outputs": [
    {
     "data": {
      "text/plain": [
       "array([[46.80464128]])"
      ]
     },
     "execution_count": 63,
     "metadata": {},
     "output_type": "execute_result"
    }
   ],
   "source": [
    "#Predicting revenue when Temperature is 0 degree C\n",
    "T=0\n",
    "T = np.asarray(T)\n",
    "T = np.reshape(T, (-1, 1))\n",
    "revenue=regressor.predict(T)\n",
    "revenue"
   ]
  },
  {
   "cell_type": "code",
   "execution_count": 65,
   "id": "e072ef84",
   "metadata": {},
   "outputs": [
    {
     "data": {
      "text/plain": [
       "array([[260.62437983]])"
      ]
     },
     "execution_count": 65,
     "metadata": {},
     "output_type": "execute_result"
    }
   ],
   "source": [
    "#Predicting revenue when Temperature is 10 degree C\n",
    "T=10\n",
    "T = np.asarray(T)\n",
    "T = np.reshape(T, (-1, 1))\n",
    "revenue=regressor.predict(T)\n",
    "revenue"
   ]
  }
 ],
 "metadata": {
  "kernelspec": {
   "display_name": "Python 3",
   "language": "python",
   "name": "python3"
  },
  "language_info": {
   "codemirror_mode": {
    "name": "ipython",
    "version": 3
   },
   "file_extension": ".py",
   "mimetype": "text/x-python",
   "name": "python",
   "nbconvert_exporter": "python",
   "pygments_lexer": "ipython3",
   "version": "3.8.8"
  }
 },
 "nbformat": 4,
 "nbformat_minor": 5
}
